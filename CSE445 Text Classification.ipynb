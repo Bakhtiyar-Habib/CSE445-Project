{
 "cells": [
  {
   "cell_type": "code",
   "execution_count": 1,
   "metadata": {},
   "outputs": [
    {
     "name": "stdout",
     "output_type": "stream",
     "text": [
      "Python: 3.7.3 (v3.7.3:ef4ec6ed12, Mar 25 2019, 21:26:53) [MSC v.1916 32 bit (Intel)]\n",
      "NLTK: 3.5\n",
      "Scikit-learn: 0.23.0\n",
      "Pandas: 1.0.3\n",
      "Numpy: 1.18.3\n"
     ]
    }
   ],
   "source": [
    "import sys\n",
    "import nltk\n",
    "import sklearn\n",
    "import pandas\n",
    "import numpy\n",
    "\n",
    "print('Python: {}'.format(sys.version))\n",
    "print('NLTK: {}'.format(nltk.__version__))\n",
    "print('Scikit-learn: {}'.format(sklearn.__version__))\n",
    "print('Pandas: {}'.format(pandas.__version__))\n",
    "print('Numpy: {}'.format(numpy.__version__))"
   ]
  },
  {
   "cell_type": "code",
   "execution_count": 6,
   "metadata": {},
   "outputs": [],
   "source": [
    "import pandas as pd\n",
    "import numpy as np"
   ]
  },
  {
   "cell_type": "code",
   "execution_count": 10,
   "metadata": {},
   "outputs": [
    {
     "name": "stderr",
     "output_type": "stream",
     "text": [
      "b'Skipping line 12: expected 2 fields, saw 4\\nSkipping line 42: expected 2 fields, saw 3\\nSkipping line 57: expected 2 fields, saw 4\\nSkipping line 66: expected 2 fields, saw 3\\nSkipping line 68: expected 2 fields, saw 3\\nSkipping line 86: expected 2 fields, saw 3\\nSkipping line 90: expected 2 fields, saw 3\\nSkipping line 96: expected 2 fields, saw 3\\nSkipping line 116: expected 2 fields, saw 4\\nSkipping line 128: expected 2 fields, saw 4\\nSkipping line 148: expected 2 fields, saw 3\\nSkipping line 156: expected 2 fields, saw 11\\nSkipping line 175: expected 2 fields, saw 3\\nSkipping line 201: expected 2 fields, saw 3\\nSkipping line 228: expected 2 fields, saw 3\\nSkipping line 240: expected 2 fields, saw 3\\nSkipping line 244: expected 2 fields, saw 3\\nSkipping line 253: expected 2 fields, saw 3\\nSkipping line 283: expected 2 fields, saw 4\\nSkipping line 290: expected 2 fields, saw 5\\nSkipping line 291: expected 2 fields, saw 3\\nSkipping line 303: expected 2 fields, saw 3\\nSkipping line 310: expected 2 fields, saw 6\\nSkipping line 313: expected 2 fields, saw 3\\nSkipping line 318: expected 2 fields, saw 3\\nSkipping line 329: expected 2 fields, saw 3\\nSkipping line 354: expected 2 fields, saw 4\\nSkipping line 357: expected 2 fields, saw 3\\nSkipping line 360: expected 2 fields, saw 4\\nSkipping line 400: expected 2 fields, saw 6\\nSkipping line 414: expected 2 fields, saw 3\\nSkipping line 420: expected 2 fields, saw 3\\nSkipping line 447: expected 2 fields, saw 4\\nSkipping line 448: expected 2 fields, saw 6\\nSkipping line 460: expected 2 fields, saw 4\\nSkipping line 483: expected 2 fields, saw 3\\nSkipping line 490: expected 2 fields, saw 3\\nSkipping line 493: expected 2 fields, saw 4\\nSkipping line 520: expected 2 fields, saw 3\\nSkipping line 537: expected 2 fields, saw 3\\nSkipping line 552: expected 2 fields, saw 4\\nSkipping line 561: expected 2 fields, saw 3\\nSkipping line 569: expected 2 fields, saw 3\\nSkipping line 577: expected 2 fields, saw 4\\nSkipping line 625: expected 2 fields, saw 3\\nSkipping line 636: expected 2 fields, saw 3\\nSkipping line 643: expected 2 fields, saw 3\\nSkipping line 651: expected 2 fields, saw 5\\nSkipping line 662: expected 2 fields, saw 5\\nSkipping line 693: expected 2 fields, saw 4\\nSkipping line 705: expected 2 fields, saw 3\\nSkipping line 726: expected 2 fields, saw 4\\nSkipping line 759: expected 2 fields, saw 4\\nSkipping line 768: expected 2 fields, saw 4\\nSkipping line 790: expected 2 fields, saw 4\\nSkipping line 802: expected 2 fields, saw 3\\nSkipping line 816: expected 2 fields, saw 3\\nSkipping line 824: expected 2 fields, saw 3\\nSkipping line 834: expected 2 fields, saw 4\\nSkipping line 850: expected 2 fields, saw 3\\nSkipping line 864: expected 2 fields, saw 3\\nSkipping line 877: expected 2 fields, saw 7\\nSkipping line 883: expected 2 fields, saw 5\\nSkipping line 900: expected 2 fields, saw 3\\nSkipping line 901: expected 2 fields, saw 3\\nSkipping line 908: expected 2 fields, saw 4\\nSkipping line 919: expected 2 fields, saw 3\\nSkipping line 938: expected 2 fields, saw 4\\nSkipping line 946: expected 2 fields, saw 3\\nSkipping line 958: expected 2 fields, saw 5\\nSkipping line 984: expected 2 fields, saw 4\\nSkipping line 989: expected 2 fields, saw 3\\nSkipping line 990: expected 2 fields, saw 7\\nSkipping line 1010: expected 2 fields, saw 5\\nSkipping line 1011: expected 2 fields, saw 3\\nSkipping line 1022: expected 2 fields, saw 3\\nSkipping line 1039: expected 2 fields, saw 4\\nSkipping line 1040: expected 2 fields, saw 5\\nSkipping line 1087: expected 2 fields, saw 3\\nSkipping line 1103: expected 2 fields, saw 3\\nSkipping line 1119: expected 2 fields, saw 3\\nSkipping line 1121: expected 2 fields, saw 3\\nSkipping line 1165: expected 2 fields, saw 3\\nSkipping line 1178: expected 2 fields, saw 3\\nSkipping line 1208: expected 2 fields, saw 4\\nSkipping line 1215: expected 2 fields, saw 4\\nSkipping line 1217: expected 2 fields, saw 3\\nSkipping line 1250: expected 2 fields, saw 3\\nSkipping line 1251: expected 2 fields, saw 3\\nSkipping line 1309: expected 2 fields, saw 3\\nSkipping line 1317: expected 2 fields, saw 5\\nSkipping line 1328: expected 2 fields, saw 3\\nSkipping line 1369: expected 2 fields, saw 3\\nSkipping line 1375: expected 2 fields, saw 4\\nSkipping line 1386: expected 2 fields, saw 3\\nSkipping line 1391: expected 2 fields, saw 3\\nSkipping line 1392: expected 2 fields, saw 3\\nSkipping line 1394: expected 2 fields, saw 3\\nSkipping line 1414: expected 2 fields, saw 3\\nSkipping line 1430: expected 2 fields, saw 3\\nSkipping line 1476: expected 2 fields, saw 6\\nSkipping line 1509: expected 2 fields, saw 3\\nSkipping line 1514: expected 2 fields, saw 4\\nSkipping line 1528: expected 2 fields, saw 3\\nSkipping line 1545: expected 2 fields, saw 4\\nSkipping line 1547: expected 2 fields, saw 3\\nSkipping line 1584: expected 2 fields, saw 3\\nSkipping line 1585: expected 2 fields, saw 3\\nSkipping line 1589: expected 2 fields, saw 4\\nSkipping line 1606: expected 2 fields, saw 4\\nSkipping line 1618: expected 2 fields, saw 3\\nSkipping line 1622: expected 2 fields, saw 4\\nSkipping line 1625: expected 2 fields, saw 3\\nSkipping line 1629: expected 2 fields, saw 3\\nSkipping line 1636: expected 2 fields, saw 6\\nSkipping line 1638: expected 2 fields, saw 3\\nSkipping line 1639: expected 2 fields, saw 3\\nSkipping line 1642: expected 2 fields, saw 3\\nSkipping line 1643: expected 2 fields, saw 3\\nSkipping line 1678: expected 2 fields, saw 3\\nSkipping line 1720: expected 2 fields, saw 3\\nSkipping line 1725: expected 2 fields, saw 9\\nSkipping line 1759: expected 2 fields, saw 4\\nSkipping line 1763: expected 2 fields, saw 3\\nSkipping line 1786: expected 2 fields, saw 4\\nSkipping line 1828: expected 2 fields, saw 3\\nSkipping line 1840: expected 2 fields, saw 4\\nSkipping line 1858: expected 2 fields, saw 6\\nSkipping line 1864: expected 2 fields, saw 14\\nSkipping line 1896: expected 2 fields, saw 4\\nSkipping line 1943: expected 2 fields, saw 7\\nSkipping line 1960: expected 2 fields, saw 3\\nSkipping line 2000: expected 2 fields, saw 3\\nSkipping line 2011: expected 2 fields, saw 6\\nSkipping line 2013: expected 2 fields, saw 3\\nSkipping line 2024: expected 2 fields, saw 3\\nSkipping line 2054: expected 2 fields, saw 3\\nSkipping line 2065: expected 2 fields, saw 3\\nSkipping line 2071: expected 2 fields, saw 6\\nSkipping line 2091: expected 2 fields, saw 6\\nSkipping line 2094: expected 2 fields, saw 3\\nSkipping line 2095: expected 2 fields, saw 3\\nSkipping line 2115: expected 2 fields, saw 3\\nSkipping line 2116: expected 2 fields, saw 5\\nSkipping line 2120: expected 2 fields, saw 3\\nSkipping line 2135: expected 2 fields, saw 4\\nSkipping line 2147: expected 2 fields, saw 5\\nSkipping line 2159: expected 2 fields, saw 7\\nSkipping line 2171: expected 2 fields, saw 7\\nSkipping line 2172: expected 2 fields, saw 3\\nSkipping line 2185: expected 2 fields, saw 4\\nSkipping line 2192: expected 2 fields, saw 4\\nSkipping line 2207: expected 2 fields, saw 3\\nSkipping line 2208: expected 2 fields, saw 3\\nSkipping line 2210: expected 2 fields, saw 7\\nSkipping line 2226: expected 2 fields, saw 3\\nSkipping line 2257: expected 2 fields, saw 4\\nSkipping line 2301: expected 2 fields, saw 4\\nSkipping line 2313: expected 2 fields, saw 3\\nSkipping line 2357: expected 2 fields, saw 3\\nSkipping line 2371: expected 2 fields, saw 4\\nSkipping line 2409: expected 2 fields, saw 7\\nSkipping line 2420: expected 2 fields, saw 4\\nSkipping line 2464: expected 2 fields, saw 3\\nSkipping line 2465: expected 2 fields, saw 3\\nSkipping line 2474: expected 2 fields, saw 3\\nSkipping line 2506: expected 2 fields, saw 3\\nSkipping line 2514: expected 2 fields, saw 4\\nSkipping line 2527: expected 2 fields, saw 6\\nSkipping line 2537: expected 2 fields, saw 3\\nSkipping line 2566: expected 2 fields, saw 5\\nSkipping line 2575: expected 2 fields, saw 4\\nSkipping line 2596: expected 2 fields, saw 4\\nSkipping line 2599: expected 2 fields, saw 4\\nSkipping line 2631: expected 2 fields, saw 3\\nSkipping line 2633: expected 2 fields, saw 3\\nSkipping line 2648: expected 2 fields, saw 3\\nSkipping line 2649: expected 2 fields, saw 3\\nSkipping line 2653: expected 2 fields, saw 3\\nSkipping line 2668: expected 2 fields, saw 5\\nSkipping line 2675: expected 2 fields, saw 3\\nSkipping line 2682: expected 2 fields, saw 7\\nSkipping line 2703: expected 2 fields, saw 3\\nSkipping line 2713: expected 2 fields, saw 3\\nSkipping line 2718: expected 2 fields, saw 3\\nSkipping line 2731: expected 2 fields, saw 3\\nSkipping line 2746: expected 2 fields, saw 3\\nSkipping line 2765: expected 2 fields, saw 6\\nSkipping line 2793: expected 2 fields, saw 3\\nSkipping line 2796: expected 2 fields, saw 4\\nSkipping line 2802: expected 2 fields, saw 3\\nSkipping line 2814: expected 2 fields, saw 6\\nSkipping line 2815: expected 2 fields, saw 3\\nSkipping line 2819: expected 2 fields, saw 4\\nSkipping line 2827: expected 2 fields, saw 3\\nSkipping line 2835: expected 2 fields, saw 3\\nSkipping line 2837: expected 2 fields, saw 3\\nSkipping line 2850: expected 2 fields, saw 7\\nSkipping line 2858: expected 2 fields, saw 8\\nSkipping line 2865: expected 2 fields, saw 9\\nSkipping line 2871: expected 2 fields, saw 3\\nSkipping line 2877: expected 2 fields, saw 3\\nSkipping line 2882: expected 2 fields, saw 3\\nSkipping line 2901: expected 2 fields, saw 3\\nSkipping line 2944: expected 2 fields, saw 3\\nSkipping line 2947: expected 2 fields, saw 3\\nSkipping line 2992: expected 2 fields, saw 5\\nSkipping line 3006: expected 2 fields, saw 3\\nSkipping line 3018: expected 2 fields, saw 9\\nSkipping line 3047: expected 2 fields, saw 3\\nSkipping line 3049: expected 2 fields, saw 3\\nSkipping line 3065: expected 2 fields, saw 3\\nSkipping line 3090: expected 2 fields, saw 4\\nSkipping line 3148: expected 2 fields, saw 3\\nSkipping line 3166: expected 2 fields, saw 4\\nSkipping line 3169: expected 2 fields, saw 3\\nSkipping line 3175: expected 2 fields, saw 3\\nSkipping line 3184: expected 2 fields, saw 3\\nSkipping line 3198: expected 2 fields, saw 3\\nSkipping line 3207: expected 2 fields, saw 3\\nSkipping line 3212: expected 2 fields, saw 4\\nSkipping line 3224: expected 2 fields, saw 3\\nSkipping line 3228: expected 2 fields, saw 5\\nSkipping line 3230: expected 2 fields, saw 4\\nSkipping line 3247: expected 2 fields, saw 3\\nSkipping line 3248: expected 2 fields, saw 3\\nSkipping line 3259: expected 2 fields, saw 3\\nSkipping line 3261: expected 2 fields, saw 3\\nSkipping line 3281: expected 2 fields, saw 7\\nSkipping line 3315: expected 2 fields, saw 4\\nSkipping line 3325: expected 2 fields, saw 4\\nSkipping line 3337: expected 2 fields, saw 3\\nSkipping line 3345: expected 2 fields, saw 3\\nSkipping line 3402: expected 2 fields, saw 3\\nSkipping line 3422: expected 2 fields, saw 3\\nSkipping line 3435: expected 2 fields, saw 3\\nSkipping line 3441: expected 2 fields, saw 4\\nSkipping line 3448: expected 2 fields, saw 3\\nSkipping line 3468: expected 2 fields, saw 3\\nSkipping line 3485: expected 2 fields, saw 3\\nSkipping line 3497: expected 2 fields, saw 4\\nSkipping line 3509: expected 2 fields, saw 3\\nSkipping line 3510: expected 2 fields, saw 4\\nSkipping line 3519: expected 2 fields, saw 3\\nSkipping line 3528: expected 2 fields, saw 4\\nSkipping line 3531: expected 2 fields, saw 4\\nSkipping line 3534: expected 2 fields, saw 3\\nSkipping line 3539: expected 2 fields, saw 3\\nSkipping line 3574: expected 2 fields, saw 3\\nSkipping line 3581: expected 2 fields, saw 3\\nSkipping line 3614: expected 2 fields, saw 3\\nSkipping line 3637: expected 2 fields, saw 3\\nSkipping line 3645: expected 2 fields, saw 3\\nSkipping line 3649: expected 2 fields, saw 3\\nSkipping line 3674: expected 2 fields, saw 3\\nSkipping line 3684: expected 2 fields, saw 4\\nSkipping line 3693: expected 2 fields, saw 3\\nSkipping line 3726: expected 2 fields, saw 3\\nSkipping line 3750: expected 2 fields, saw 5\\nSkipping line 3761: expected 2 fields, saw 3\\nSkipping line 3773: expected 2 fields, saw 4\\nSkipping line 3779: expected 2 fields, saw 4\\nSkipping line 3780: expected 2 fields, saw 3\\nSkipping line 3792: expected 2 fields, saw 3\\nSkipping line 3793: expected 2 fields, saw 4\\nSkipping line 3801: expected 2 fields, saw 3\\nSkipping line 3806: expected 2 fields, saw 4\\nSkipping line 3821: expected 2 fields, saw 3\\nSkipping line 3822: expected 2 fields, saw 3\\nSkipping line 3854: expected 2 fields, saw 3\\nSkipping line 3924: expected 2 fields, saw 4\\nSkipping line 3949: expected 2 fields, saw 3\\nSkipping line 3972: expected 2 fields, saw 3\\nSkipping line 3988: expected 2 fields, saw 6\\nSkipping line 4007: expected 2 fields, saw 3\\nSkipping line 4010: expected 2 fields, saw 3\\nSkipping line 4012: expected 2 fields, saw 4\\nSkipping line 4016: expected 2 fields, saw 3\\nSkipping line 4053: expected 2 fields, saw 3\\nSkipping line 4058: expected 2 fields, saw 3\\nSkipping line 4062: expected 2 fields, saw 3\\nSkipping line 4077: expected 2 fields, saw 4\\nSkipping line 4085: expected 2 fields, saw 3\\nSkipping line 4091: expected 2 fields, saw 3\\nSkipping line 4126: expected 2 fields, saw 3\\nSkipping line 4140: expected 2 fields, saw 4\\nSkipping line 4145: expected 2 fields, saw 4\\nSkipping line 4155: expected 2 fields, saw 7\\nSkipping line 4158: expected 2 fields, saw 3\\nSkipping line 4167: expected 2 fields, saw 3\\nSkipping line 4172: expected 2 fields, saw 4\\nSkipping line 4182: expected 2 fields, saw 3\\nSkipping line 4193: expected 2 fields, saw 6\\nSkipping line 4198: expected 2 fields, saw 3\\nSkipping line 4201: expected 2 fields, saw 4\\nSkipping line 4238: expected 2 fields, saw 3\\nSkipping line 4256: expected 2 fields, saw 3\\nSkipping line 4291: expected 2 fields, saw 4\\nSkipping line 4292: expected 2 fields, saw 3\\nSkipping line 4300: expected 2 fields, saw 7\\nSkipping line 4306: expected 2 fields, saw 3\\nSkipping line 4330: expected 2 fields, saw 4\\nSkipping line 4365: expected 2 fields, saw 3\\nSkipping line 4374: expected 2 fields, saw 5\\nSkipping line 4388: expected 2 fields, saw 3\\nSkipping line 4397: expected 2 fields, saw 3\\nSkipping line 4409: expected 2 fields, saw 3\\nSkipping line 4438: expected 2 fields, saw 3\\nSkipping line 4451: expected 2 fields, saw 3\\nSkipping line 4457: expected 2 fields, saw 3\\nSkipping line 4464: expected 2 fields, saw 3\\nSkipping line 4469: expected 2 fields, saw 4\\nSkipping line 4493: expected 2 fields, saw 6\\nSkipping line 4498: expected 2 fields, saw 3\\nSkipping line 4501: expected 2 fields, saw 3\\nSkipping line 4518: expected 2 fields, saw 4\\nSkipping line 4519: expected 2 fields, saw 6\\nSkipping line 4528: expected 2 fields, saw 3\\nSkipping line 4541: expected 2 fields, saw 3\\nSkipping line 4542: expected 2 fields, saw 4\\nSkipping line 4579: expected 2 fields, saw 3\\nSkipping line 4588: expected 2 fields, saw 4\\nSkipping line 4608: expected 2 fields, saw 3\\nSkipping line 4671: expected 2 fields, saw 6\\nSkipping line 4677: expected 2 fields, saw 3\\nSkipping line 4686: expected 2 fields, saw 5\\nSkipping line 4711: expected 2 fields, saw 3\\nSkipping line 4721: expected 2 fields, saw 3\\nSkipping line 4759: expected 2 fields, saw 3\\nSkipping line 4806: expected 2 fields, saw 3\\nSkipping line 4861: expected 2 fields, saw 3\\nSkipping line 4885: expected 2 fields, saw 3\\nSkipping line 4891: expected 2 fields, saw 8\\nSkipping line 4906: expected 2 fields, saw 9\\nSkipping line 4944: expected 2 fields, saw 3\\nSkipping line 4950: expected 2 fields, saw 3\\nSkipping line 4963: expected 2 fields, saw 5\\nSkipping line 5051: expected 2 fields, saw 5\\nSkipping line 5054: expected 2 fields, saw 3\\nSkipping line 5079: expected 2 fields, saw 3\\nSkipping line 5084: expected 2 fields, saw 3\\nSkipping line 5097: expected 2 fields, saw 3\\nSkipping line 5101: expected 2 fields, saw 3\\nSkipping line 5102: expected 2 fields, saw 3\\nSkipping line 5107: expected 2 fields, saw 4\\nSkipping line 5118: expected 2 fields, saw 3\\nSkipping line 5132: expected 2 fields, saw 5\\nSkipping line 5136: expected 2 fields, saw 3\\nSkipping line 5140: expected 2 fields, saw 7\\nSkipping line 5167: expected 2 fields, saw 4\\nSkipping line 5182: expected 2 fields, saw 4\\nSkipping line 5204: expected 2 fields, saw 7\\nSkipping line 5210: expected 2 fields, saw 3\\nSkipping line 5254: expected 2 fields, saw 4\\nSkipping line 5267: expected 2 fields, saw 3\\nSkipping line 5275: expected 2 fields, saw 3\\nSkipping line 5321: expected 2 fields, saw 3\\nSkipping line 5337: expected 2 fields, saw 5\\nSkipping line 5345: expected 2 fields, saw 3\\nSkipping line 5349: expected 2 fields, saw 3\\nSkipping line 5363: expected 2 fields, saw 4\\nSkipping line 5432: expected 2 fields, saw 3\\nSkipping line 5487: expected 2 fields, saw 3\\nSkipping line 5497: expected 2 fields, saw 4\\nSkipping line 5498: expected 2 fields, saw 3\\nSkipping line 5500: expected 2 fields, saw 3\\nSkipping line 5519: expected 2 fields, saw 5\\nSkipping line 5550: expected 2 fields, saw 3\\nSkipping line 5552: expected 2 fields, saw 6\\n'\n"
     ]
    }
   ],
   "source": [
    "other_path = \"F:\\\\NSU\\\\Project\\\\CSE445 Project\\\\smsspamcollection\\\\SMSSpamCollection.csv\"\n",
    "df = pd.read_csv(other_path, header=None, error_bad_lines=False)"
   ]
  },
  {
   "cell_type": "code",
   "execution_count": 12,
   "metadata": {},
   "outputs": [],
   "source": [
    "# load the dataset of SMS messages\n",
    "df = pd.read_table('F:\\\\NSU\\\\Project\\\\CSE445 Project\\\\smsspamcollection\\\\SMSSpamCollection.csv', header=None, encoding='utf-8')"
   ]
  },
  {
   "cell_type": "code",
   "execution_count": 13,
   "metadata": {},
   "outputs": [
    {
     "name": "stdout",
     "output_type": "stream",
     "text": [
      "<class 'pandas.core.frame.DataFrame'>\n",
      "RangeIndex: 5572 entries, 0 to 5571\n",
      "Data columns (total 2 columns):\n",
      " #   Column  Non-Null Count  Dtype \n",
      "---  ------  --------------  ----- \n",
      " 0   0       5572 non-null   object\n",
      " 1   1       5572 non-null   object\n",
      "dtypes: object(2)\n",
      "memory usage: 43.6+ KB\n",
      "None\n",
      "      0                                                  1\n",
      "0   ham  Go until jurong point, crazy.. Available only ...\n",
      "1   ham                      Ok lar... Joking wif u oni...\n",
      "2  spam  Free entry in 2 a wkly comp to win FA Cup fina...\n",
      "3   ham  U dun say so early hor... U c already then say...\n",
      "4   ham  Nah I don't think he goes to usf, he lives aro...\n"
     ]
    }
   ],
   "source": [
    "# print useful information about the dataset\n",
    "print(df.info())\n",
    "print(df.head())"
   ]
  },
  {
   "cell_type": "code",
   "execution_count": 14,
   "metadata": {},
   "outputs": [
    {
     "name": "stdout",
     "output_type": "stream",
     "text": [
      "ham     4825\n",
      "spam     747\n",
      "Name: 0, dtype: int64\n"
     ]
    }
   ],
   "source": [
    "# check class distribution\n",
    "classes = df[0]\n",
    "print(classes.value_counts())"
   ]
  },
  {
   "cell_type": "code",
   "execution_count": 15,
   "metadata": {},
   "outputs": [
    {
     "name": "stdout",
     "output_type": "stream",
     "text": [
      "[0 0 1 0 0 1 0 0 1 1]\n"
     ]
    }
   ],
   "source": [
    "\n",
    "from sklearn.preprocessing import LabelEncoder\n",
    "\n",
    "# convert class labels to binary values, 0 = ham and 1 = spam\n",
    "encoder = LabelEncoder()\n",
    "Y = encoder.fit_transform(classes)\n",
    "\n",
    "print(Y[:10])"
   ]
  },
  {
   "cell_type": "code",
   "execution_count": 16,
   "metadata": {},
   "outputs": [
    {
     "name": "stdout",
     "output_type": "stream",
     "text": [
      "0    Go until jurong point, crazy.. Available only ...\n",
      "1                        Ok lar... Joking wif u oni...\n",
      "2    Free entry in 2 a wkly comp to win FA Cup fina...\n",
      "3    U dun say so early hor... U c already then say...\n",
      "4    Nah I don't think he goes to usf, he lives aro...\n",
      "5    FreeMsg Hey there darling it's been 3 week's n...\n",
      "6    Even my brother is not like to speak with me. ...\n",
      "7    As per your request 'Melle Melle (Oru Minnamin...\n",
      "8    WINNER!! As a valued network customer you have...\n",
      "9    Had your mobile 11 months or more? U R entitle...\n",
      "Name: 1, dtype: object\n"
     ]
    }
   ],
   "source": [
    "\n",
    "# store the SMS message data\n",
    "text_messages = df[1]\n",
    "print(text_messages[:10])"
   ]
  },
  {
   "cell_type": "code",
   "execution_count": 17,
   "metadata": {},
   "outputs": [],
   "source": [
    "# use regular expressions to replace email addresses, URLs, phone numbers, other numbers\n",
    "\n",
    "# Replace email addresses with 'email'\n",
    "processed = text_messages.str.replace(r'^.+@[^\\.].*\\.[a-z]{2,}$',\n",
    "                                 'emailaddress')\n",
    "\n",
    "# Replace URLs with 'webaddress'\n",
    "processed = processed.str.replace(r'^http\\://[a-zA-Z0-9\\-\\.]+\\.[a-zA-Z]{2,3}(/\\S*)?$',\n",
    "                                  'webaddress')\n",
    "\n",
    "# Replace money symbols with 'moneysymb' (£ can by typed with ALT key + 156)\n",
    "processed = processed.str.replace(r'£|\\$', 'moneysymb')\n",
    "    \n",
    "# Replace 10 digit phone numbers (formats include paranthesis, spaces, no spaces, dashes) with 'phonenumber'\n",
    "processed = processed.str.replace(r'^\\(?[\\d]{3}\\)?[\\s-]?[\\d]{3}[\\s-]?[\\d]{4}$',\n",
    "                                  'phonenumbr')\n",
    "    \n",
    "# Replace numbers with 'numbr'\n",
    "processed = processed.str.replace(r'\\d+(\\.\\d+)?', 'numbr')"
   ]
  },
  {
   "cell_type": "code",
   "execution_count": 18,
   "metadata": {},
   "outputs": [],
   "source": [
    "# Remove punctuation\n",
    "processed = processed.str.replace(r'[^\\w\\d\\s]', ' ')\n",
    "\n",
    "# Replace whitespace between terms with a single space\n",
    "processed = processed.str.replace(r'\\s+', ' ')\n",
    "\n",
    "# Remove leading and trailing whitespace\n",
    "processed = processed.str.replace(r'^\\s+|\\s+?$', '')"
   ]
  },
  {
   "cell_type": "code",
   "execution_count": 19,
   "metadata": {},
   "outputs": [
    {
     "name": "stdout",
     "output_type": "stream",
     "text": [
      "0       go until jurong point crazy available only in ...\n",
      "1                                 ok lar joking wif u oni\n",
      "2       free entry in numbr a wkly comp to win fa cup ...\n",
      "3             u dun say so early hor u c already then say\n",
      "4       nah i don t think he goes to usf he lives arou...\n",
      "                              ...                        \n",
      "5567    this is the numbrnd time we have tried numbr c...\n",
      "5568                  will ü b going to esplanade fr home\n",
      "5569    pity was in mood for that so any other suggest...\n",
      "5570    the guy did some bitching but i acted like i d...\n",
      "5571                            rofl its true to its name\n",
      "Name: 1, Length: 5572, dtype: object\n"
     ]
    }
   ],
   "source": [
    "# change words to lower case\n",
    "processed = processed.str.lower()\n",
    "print(processed)"
   ]
  },
  {
   "cell_type": "code",
   "execution_count": 20,
   "metadata": {},
   "outputs": [],
   "source": [
    "from nltk.corpus import stopwords\n",
    "\n",
    "# remove stop words from text messages\n",
    "\n",
    "stop_words = set(stopwords.words('english'))\n",
    "\n",
    "processed = processed.apply(lambda x: ' '.join(\n",
    "    term for term in x.split() if term not in stop_words))"
   ]
  },
  {
   "cell_type": "code",
   "execution_count": 21,
   "metadata": {},
   "outputs": [],
   "source": [
    "# Remove word stems using a Porter stemmer\n",
    "ps = nltk.PorterStemmer()\n",
    "\n",
    "processed = processed.apply(lambda x: ' '.join(\n",
    "    ps.stem(term) for term in x.split()))"
   ]
  },
  {
   "cell_type": "code",
   "execution_count": 22,
   "metadata": {},
   "outputs": [],
   "source": [
    "from nltk.tokenize import word_tokenize\n",
    "\n",
    "# create bag-of-words\n",
    "all_words = []\n",
    "\n",
    "for message in processed:\n",
    "    words = word_tokenize(message)\n",
    "    for w in words:\n",
    "        all_words.append(w)\n",
    "        \n",
    "all_words = nltk.FreqDist(all_words)"
   ]
  },
  {
   "cell_type": "code",
   "execution_count": 23,
   "metadata": {},
   "outputs": [
    {
     "name": "stdout",
     "output_type": "stream",
     "text": [
      "Number of words: 6579\n",
      "Most common words: [('numbr', 2648), ('u', 1207), ('call', 674), ('go', 456), ('get', 451), ('ur', 391), ('gt', 318), ('lt', 316), ('come', 304), ('moneysymbnumbr', 303), ('ok', 293), ('free', 284), ('day', 276), ('know', 275), ('love', 266)]\n"
     ]
    }
   ],
   "source": [
    "# print the total number of words and the 15 most common words\n",
    "print('Number of words: {}'.format(len(all_words)))\n",
    "print('Most common words: {}'.format(all_words.most_common(15)))"
   ]
  },
  {
   "cell_type": "code",
   "execution_count": 24,
   "metadata": {},
   "outputs": [],
   "source": [
    "\n",
    "# use the 1500 most common words as features\n",
    "word_features = list(all_words.keys())[:1500]"
   ]
  },
  {
   "cell_type": "code",
   "execution_count": 26,
   "metadata": {},
   "outputs": [
    {
     "name": "stdout",
     "output_type": "stream",
     "text": [
      "go\n",
      "jurong\n",
      "point\n",
      "crazi\n",
      "avail\n",
      "bugi\n",
      "n\n",
      "great\n",
      "world\n",
      "la\n",
      "e\n",
      "buffet\n",
      "cine\n",
      "got\n",
      "amor\n",
      "wat\n"
     ]
    }
   ],
   "source": [
    "\n",
    "# The find_features function will determine which of the 1500 word features are contained in the review\n",
    "def find_features(message):\n",
    "    words = word_tokenize(message)\n",
    "    features = {}\n",
    "    for word in word_features:\n",
    "        features[word] = (word in words)\n",
    "\n",
    "    return features\n",
    "\n",
    "# Lets see an example!\n",
    "features = find_features(processed[0])\n",
    "for key, value in features.items():\n",
    "    if value == True:\n",
    "        print(key)"
   ]
  },
  {
   "cell_type": "code",
   "execution_count": 29,
   "metadata": {},
   "outputs": [],
   "source": [
    "# Now lets do it for all the messages\n",
    "messages = list(zip(processed, Y))\n",
    "\n",
    "# define a seed for reproducibility\n",
    "seed = 1\n",
    "np.random.seed = seed\n",
    "np.random.shuffle(messages)\n",
    "\n",
    "# call find_features function for each SMS message\n",
    "featuresets = [(find_features(text), label) for (text, label) in messages]"
   ]
  },
  {
   "cell_type": "code",
   "execution_count": 30,
   "metadata": {},
   "outputs": [],
   "source": [
    "\n",
    "# we can split the featuresets into training and testing datasets using sklearn\n",
    "from sklearn import model_selection\n",
    "\n",
    "# split the data into training and testing datasets\n",
    "training, testing = model_selection.train_test_split(featuresets, test_size = 0.25, random_state=seed)"
   ]
  },
  {
   "cell_type": "code",
   "execution_count": 31,
   "metadata": {},
   "outputs": [
    {
     "name": "stdout",
     "output_type": "stream",
     "text": [
      "4179\n",
      "1393\n"
     ]
    }
   ],
   "source": [
    "\n",
    "print(len(training))\n",
    "print(len(testing))"
   ]
  },
  {
   "cell_type": "code",
   "execution_count": 32,
   "metadata": {},
   "outputs": [
    {
     "name": "stdout",
     "output_type": "stream",
     "text": [
      "SVC Accuracy: 98.85139985642498\n"
     ]
    }
   ],
   "source": [
    "# We can use sklearn algorithms in NLTK\n",
    "from nltk.classify.scikitlearn import SklearnClassifier\n",
    "from sklearn.svm import SVC\n",
    "\n",
    "model = SklearnClassifier(SVC(kernel = 'linear'))\n",
    "\n",
    "# train the model on the training data\n",
    "model.train(training)\n",
    "\n",
    "# and test on the testing dataset!\n",
    "accuracy = nltk.classify.accuracy(model, testing)*100\n",
    "print(\"SVC Accuracy: {}\".format(accuracy))"
   ]
  },
  {
   "cell_type": "code",
   "execution_count": null,
   "metadata": {},
   "outputs": [],
   "source": []
  }
 ],
 "metadata": {
  "kernelspec": {
   "display_name": "Python 3",
   "language": "python",
   "name": "python3"
  },
  "language_info": {
   "codemirror_mode": {
    "name": "ipython",
    "version": 3
   },
   "file_extension": ".py",
   "mimetype": "text/x-python",
   "name": "python",
   "nbconvert_exporter": "python",
   "pygments_lexer": "ipython3",
   "version": "3.7.3"
  }
 },
 "nbformat": 4,
 "nbformat_minor": 4
}
